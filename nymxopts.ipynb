{
 "cells": [
  {
   "cell_type": "code",
   "execution_count": 40,
   "metadata": {},
   "outputs": [],
   "source": [
    "import pandas as pd\n",
    "import numpy as np\n",
    "import matplotlib.pyplot as plt\n",
    "from sqlalchemy import create_engine\n",
    "import sqlalchemy.dialects\n",
    "from sqlalchemy.dialects import registry\n",
    "from sqlalchemy.orm import sessionmaker\n",
    "import seaborn as sns"
   ]
  },
  {
   "cell_type": "code",
   "execution_count": 41,
   "metadata": {},
   "outputs": [],
   "source": [
    "# Define and import from CME ftp\n",
    "file_name = \"ftp://ftp.cmegroup.com/pub/settle/nymex_option.csv\""
   ]
  },
  {
   "cell_type": "code",
   "execution_count": 42,
   "metadata": {
    "tags": []
   },
   "outputs": [
    {
     "output_type": "execute_result",
     "data": {
      "text/plain": [
       "      PRODUCT SYMBOL  CONTRACT MONTH  CONTRACT YEAR PUT/CALL  STRIKE  SETTLE  \\\n",
       "20417             LN              12           2020        C    3.00  0.0101   \n",
       "20738             LN               1           2021        C    3.25  0.1095   \n",
       "20399             LN              12           2020        C    2.75  0.0549   \n",
       "22331             LN              10           2021        C    3.25  0.1703   \n",
       "22374             LN              10           2021        P    2.50  0.1787   \n",
       "\n",
       "       PT CHG  EST. VOL  PRIOR SETTLE  PRIOR VOL  PRIOR INT   TRADEDATE  \n",
       "20417 -0.0046      3862        0.0147       3990      10771  11/17/2020  \n",
       "20738 -0.0015      3405        0.1110       4800       8898  11/17/2020  \n",
       "20399 -0.0106      3391        0.0655        331       5269  11/17/2020  \n",
       "22331 -0.0100      3150        0.1803       1900      25995  11/17/2020  \n",
       "22374  0.0067      3000        0.1720         50       5555  11/17/2020  "
      ],
      "text/html": "<div>\n<style scoped>\n    .dataframe tbody tr th:only-of-type {\n        vertical-align: middle;\n    }\n\n    .dataframe tbody tr th {\n        vertical-align: top;\n    }\n\n    .dataframe thead th {\n        text-align: right;\n    }\n</style>\n<table border=\"1\" class=\"dataframe\">\n  <thead>\n    <tr style=\"text-align: right;\">\n      <th></th>\n      <th>PRODUCT SYMBOL</th>\n      <th>CONTRACT MONTH</th>\n      <th>CONTRACT YEAR</th>\n      <th>PUT/CALL</th>\n      <th>STRIKE</th>\n      <th>SETTLE</th>\n      <th>PT CHG</th>\n      <th>EST. VOL</th>\n      <th>PRIOR SETTLE</th>\n      <th>PRIOR VOL</th>\n      <th>PRIOR INT</th>\n      <th>TRADEDATE</th>\n    </tr>\n  </thead>\n  <tbody>\n    <tr>\n      <th>20417</th>\n      <td>LN</td>\n      <td>12</td>\n      <td>2020</td>\n      <td>C</td>\n      <td>3.00</td>\n      <td>0.0101</td>\n      <td>-0.0046</td>\n      <td>3862</td>\n      <td>0.0147</td>\n      <td>3990</td>\n      <td>10771</td>\n      <td>11/17/2020</td>\n    </tr>\n    <tr>\n      <th>20738</th>\n      <td>LN</td>\n      <td>1</td>\n      <td>2021</td>\n      <td>C</td>\n      <td>3.25</td>\n      <td>0.1095</td>\n      <td>-0.0015</td>\n      <td>3405</td>\n      <td>0.1110</td>\n      <td>4800</td>\n      <td>8898</td>\n      <td>11/17/2020</td>\n    </tr>\n    <tr>\n      <th>20399</th>\n      <td>LN</td>\n      <td>12</td>\n      <td>2020</td>\n      <td>C</td>\n      <td>2.75</td>\n      <td>0.0549</td>\n      <td>-0.0106</td>\n      <td>3391</td>\n      <td>0.0655</td>\n      <td>331</td>\n      <td>5269</td>\n      <td>11/17/2020</td>\n    </tr>\n    <tr>\n      <th>22331</th>\n      <td>LN</td>\n      <td>10</td>\n      <td>2021</td>\n      <td>C</td>\n      <td>3.25</td>\n      <td>0.1703</td>\n      <td>-0.0100</td>\n      <td>3150</td>\n      <td>0.1803</td>\n      <td>1900</td>\n      <td>25995</td>\n      <td>11/17/2020</td>\n    </tr>\n    <tr>\n      <th>22374</th>\n      <td>LN</td>\n      <td>10</td>\n      <td>2021</td>\n      <td>P</td>\n      <td>2.50</td>\n      <td>0.1787</td>\n      <td>0.0067</td>\n      <td>3000</td>\n      <td>0.1720</td>\n      <td>50</td>\n      <td>5555</td>\n      <td>11/17/2020</td>\n    </tr>\n  </tbody>\n</table>\n</div>"
     },
     "metadata": {},
     "execution_count": 42
    }
   ],
   "source": [
    "# Create Dataframe\n",
    "df = pd.read_csv(file_name, index_col=False)\n",
    "\n",
    "# Select Columns\n",
    "df.drop ([\"CONTRACT DAY\", \"CONTRACT\", \"OPEN\", \"HIGH\", \"PRODUCT DESCRIPTION\", \"HIGH AB INDICATOR\", \n",
    "            \"LOW\", \"LOW AB INDICATOR\", \"LAST\", \"LAST AB INDICATOR\"\n",
    "            ], axis = 1, inplace = True)\n",
    "\n",
    "df_opts = pd.DataFrame (df,columns = [\"PRODUCT SYMBOL\", \"CONTRACT MONTH\", \"CONTRACT YEAR\", \"PUT/CALL\", \"STRIKE\", \"SETTLE\", \"PT CHG\", \"EST. VOL\", \"PRIOR SETTLE\", \"PRIOR VOL\", \"PRIOR INT\", \"TRADEDATE\"])\n",
    "\n",
    "# Remove display delimiters\n",
    "pd.set_option(\"display.max_rows\", None)\n",
    "pd.set_option(\"display.max_columns\", None)\n",
    "pd.set_option(\"display.width\", None)\n",
    "pd.set_option(\"display.max_colwidth\", None)\n",
    "\n",
    "# Convert NaNs to numeric format\n",
    "df_opts[\"EST. VOL\"] = pd.to_numeric(df_opts[\"EST. VOL\"], errors=\"coerce\")\n",
    "df_opts[\"PT CHG\"] = pd.to_numeric(df_opts[\"PT CHG\"], errors=\"coerce\")\n",
    "df_opts[\"PRIOR VOL\"] = pd.to_numeric(df_opts[\"PRIOR VOL\"], errors=\"coerce\")\n",
    "df_opts[\"PRIOR INT\"] = pd.to_numeric(df_opts[\"PRIOR INT\"], errors=\"coerce\")\n",
    "\n",
    "# Drop Null numerics\n",
    "df_opts = df_opts.dropna(subset=[\"EST. VOL\"])\n",
    "df_opts = df_opts.dropna(subset=[\"PRIOR VOL\"])\n",
    "df_opts = df_opts.dropna(subset=[\"PRIOR INT\"])\n",
    "\n",
    "# Convert float to int\n",
    "df_opts[\"EST. VOL\"] = df_opts[\"EST. VOL\"].astype(int)\n",
    "df_opts[\"PRIOR VOL\"] = df_opts[\"PRIOR VOL\"].astype(int)\n",
    "df_opts[\"PRIOR INT\"] = df_opts[\"PRIOR INT\"].astype(int)\n",
    "\n",
    "# Parse product symbol to LN (European Gas Options)\n",
    "df1 = df_opts[df_opts[\"PRODUCT SYMBOL\"].str.contains(\"LN\")]\n",
    "\n",
    "# Remove empty estimated volume rows\n",
    "df1.loc[df1[\"EST. VOL\"] > 0]\n",
    "\n",
    "# Return estimated volume in descending max to min order\n",
    "df1.sort_values (by = [\"EST. VOL\"], inplace = True, ascending = False)\n",
    "df1.head()"
   ]
  },
  {
   "cell_type": "code",
   "execution_count": 63,
   "metadata": {},
   "outputs": [
    {
     "output_type": "stream",
     "name": "stdout",
     "text": [
      "Total Options Volume is 100958\n"
     ]
    }
   ],
   "source": [
    "#Total Options Volume\n",
    "Total_Volume = df1 [\"EST. VOL\"].sum()\n",
    "print (\"Total Options Volume is\", Total_Volume)"
   ]
  },
  {
   "cell_type": "code",
   "execution_count": 61,
   "metadata": {},
   "outputs": [],
   "source": [
    "# Total Call Volume"
   ]
  },
  {
   "cell_type": "code",
   "execution_count": null,
   "metadata": {},
   "outputs": [],
   "source": []
  }
 ],
 "metadata": {
  "kernelspec": {
   "display_name": "Python 3",
   "language": "python",
   "name": "python3"
  },
  "language_info": {
   "codemirror_mode": {
    "name": "ipython",
    "version": 3
   },
   "file_extension": ".py",
   "mimetype": "text/x-python",
   "name": "python",
   "nbconvert_exporter": "python",
   "pygments_lexer": "ipython3",
   "version": "3.8.3-final"
  }
 },
 "nbformat": 4,
 "nbformat_minor": 4
}