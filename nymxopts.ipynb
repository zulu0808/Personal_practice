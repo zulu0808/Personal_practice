{
 "cells": [
  {
   "cell_type": "code",
   "execution_count": 6,
   "metadata": {},
   "outputs": [],
   "source": [
    "import pandas as pd\n",
    "import numpy as np\n",
    "import matplotlib.pyplot as plt\n",
    "from sqlalchemy import create_engine\n",
    "import sqlalchemy.dialects\n",
    "from sqlalchemy.dialects import registry\n",
    "from sqlalchemy.orm import sessionmaker\n",
    "import seaborn as sns"
   ]
  },
  {
   "cell_type": "code",
   "execution_count": 7,
   "metadata": {},
   "outputs": [],
   "source": [
    "# Define and import from CME ftp\n",
    "file_name = \"ftp://ftp.cmegroup.com/pub/settle/nymex_option.csv\""
   ]
  },
  {
   "cell_type": "code",
   "execution_count": 8,
   "metadata": {
    "tags": []
   },
   "outputs": [
    {
     "output_type": "execute_result",
     "data": {
      "text/plain": [
       "      PRODUCT SYMBOL  CONTRACT MONTH  CONTRACT YEAR PUT/CALL  STRIKE  SETTLE  \\\n",
       "20796             LN               1           2021        C    3.50  0.0833   \n",
       "20663             LN              12           2020        P    2.75  0.0000   \n",
       "20960             LN               1           2021        P    2.75  0.1509   \n",
       "20952             LN               1           2021        P    2.50  0.0544   \n",
       "20461             LN              12           2020        C    2.75  0.0250   \n",
       "\n",
       "       PT CHG  EST. VOL  PRIOR SETTLE  PRIOR VOL  PRIOR INT   TRADEDATE  \n",
       "20796  0.0147      3486        0.0686        510      15447  11/24/2020  \n",
       "20663 -0.0595      1645        0.0595        174      13570  11/24/2020  \n",
       "20960 -0.0265      1584        0.1774        624       7200  11/24/2020  \n",
       "20952 -0.0102      1332        0.0646        934      21302  11/24/2020  \n",
       "20461  0.0045      1267        0.0205       4146      10378  11/24/2020  "
      ],
      "text/html": "<div>\n<style scoped>\n    .dataframe tbody tr th:only-of-type {\n        vertical-align: middle;\n    }\n\n    .dataframe tbody tr th {\n        vertical-align: top;\n    }\n\n    .dataframe thead th {\n        text-align: right;\n    }\n</style>\n<table border=\"1\" class=\"dataframe\">\n  <thead>\n    <tr style=\"text-align: right;\">\n      <th></th>\n      <th>PRODUCT SYMBOL</th>\n      <th>CONTRACT MONTH</th>\n      <th>CONTRACT YEAR</th>\n      <th>PUT/CALL</th>\n      <th>STRIKE</th>\n      <th>SETTLE</th>\n      <th>PT CHG</th>\n      <th>EST. VOL</th>\n      <th>PRIOR SETTLE</th>\n      <th>PRIOR VOL</th>\n      <th>PRIOR INT</th>\n      <th>TRADEDATE</th>\n    </tr>\n  </thead>\n  <tbody>\n    <tr>\n      <th>20796</th>\n      <td>LN</td>\n      <td>1</td>\n      <td>2021</td>\n      <td>C</td>\n      <td>3.50</td>\n      <td>0.0833</td>\n      <td>0.0147</td>\n      <td>3486</td>\n      <td>0.0686</td>\n      <td>510</td>\n      <td>15447</td>\n      <td>11/24/2020</td>\n    </tr>\n    <tr>\n      <th>20663</th>\n      <td>LN</td>\n      <td>12</td>\n      <td>2020</td>\n      <td>P</td>\n      <td>2.75</td>\n      <td>0.0000</td>\n      <td>-0.0595</td>\n      <td>1645</td>\n      <td>0.0595</td>\n      <td>174</td>\n      <td>13570</td>\n      <td>11/24/2020</td>\n    </tr>\n    <tr>\n      <th>20960</th>\n      <td>LN</td>\n      <td>1</td>\n      <td>2021</td>\n      <td>P</td>\n      <td>2.75</td>\n      <td>0.1509</td>\n      <td>-0.0265</td>\n      <td>1584</td>\n      <td>0.1774</td>\n      <td>624</td>\n      <td>7200</td>\n      <td>11/24/2020</td>\n    </tr>\n    <tr>\n      <th>20952</th>\n      <td>LN</td>\n      <td>1</td>\n      <td>2021</td>\n      <td>P</td>\n      <td>2.50</td>\n      <td>0.0544</td>\n      <td>-0.0102</td>\n      <td>1332</td>\n      <td>0.0646</td>\n      <td>934</td>\n      <td>21302</td>\n      <td>11/24/2020</td>\n    </tr>\n    <tr>\n      <th>20461</th>\n      <td>LN</td>\n      <td>12</td>\n      <td>2020</td>\n      <td>C</td>\n      <td>2.75</td>\n      <td>0.0250</td>\n      <td>0.0045</td>\n      <td>1267</td>\n      <td>0.0205</td>\n      <td>4146</td>\n      <td>10378</td>\n      <td>11/24/2020</td>\n    </tr>\n  </tbody>\n</table>\n</div>"
     },
     "metadata": {},
     "execution_count": 8
    }
   ],
   "source": [
    "# Create Dataframe\n",
    "df = pd.read_csv(file_name, index_col=False)\n",
    "df_opts = pd.DataFrame (df,columns = [\"PRODUCT SYMBOL\", \"CONTRACT MONTH\", \"CONTRACT YEAR\", \"PUT/CALL\", \"STRIKE\", \"SETTLE\", \"PT CHG\", \"EST. VOL\", \"PRIOR SETTLE\", \"PRIOR VOL\", \"PRIOR INT\", \"TRADEDATE\"])\n",
    "\n",
    "# Select Columns\n",
    "df.drop ([\"CONTRACT DAY\", \"CONTRACT\", \"OPEN\", \"HIGH\", \"PRODUCT DESCRIPTION\", \"HIGH AB INDICATOR\", \n",
    "            \"LOW\", \"LOW AB INDICATOR\", \"LAST\", \"LAST AB INDICATOR\"\n",
    "            ], axis = 1, inplace = True)\n",
    "\n",
    "# Remove display delimiters\n",
    "pd.set_option(\"display.max_rows\", None)\n",
    "pd.set_option(\"display.max_columns\", None)\n",
    "pd.set_option(\"display.width\", None)\n",
    "pd.set_option(\"display.max_colwidth\", None)\n",
    "\n",
    "# Convert NaNs to numeric format\n",
    "df_opts[\"EST. VOL\"] = pd.to_numeric(df_opts[\"EST. VOL\"], errors=\"coerce\")\n",
    "df_opts[\"PT CHG\"] = pd.to_numeric(df_opts[\"PT CHG\"], errors=\"coerce\")\n",
    "df_opts[\"PRIOR VOL\"] = pd.to_numeric(df_opts[\"PRIOR VOL\"], errors=\"coerce\")\n",
    "df_opts[\"PRIOR INT\"] = pd.to_numeric(df_opts[\"PRIOR INT\"], errors=\"coerce\")\n",
    "\n",
    "# Drop Null numerics\n",
    "df_opts = df_opts.dropna(subset=[\"EST. VOL\"])\n",
    "df_opts = df_opts.dropna(subset=[\"PRIOR VOL\"])\n",
    "df_opts = df_opts.dropna(subset=[\"PRIOR INT\"])\n",
    "\n",
    "# Convert float to int\n",
    "df_opts[\"EST. VOL\"] = df_opts[\"EST. VOL\"].astype(int)\n",
    "df_opts[\"PRIOR VOL\"] = df_opts[\"PRIOR VOL\"].astype(int)\n",
    "df_opts[\"PRIOR INT\"] = df_opts[\"PRIOR INT\"].astype(int)\n",
    "\n",
    "# Parse product symbol to LN (European Gas Options)\n",
    "df1 = df_opts[df_opts[\"PRODUCT SYMBOL\"].str.contains(\"LN\")]\n",
    "\n",
    "# Remove empty estimated volume rows\n",
    "df1.loc[df1[\"EST. VOL\"] > 0]\n",
    "\n",
    "# Return estimated volume in descending max to min order\n",
    "df1.sort_values (by = [\"EST. VOL\"], inplace = True, ascending = False)\n",
    "df1.head()"
   ]
  },
  {
   "cell_type": "code",
   "execution_count": 9,
   "metadata": {},
   "outputs": [
    {
     "output_type": "stream",
     "name": "stdout",
     "text": [
      "Yesterday's total options volume was 47463 . Prior volume was 102837 while open interest stands at 1332989 .\n"
     ]
    }
   ],
   "source": [
    "#Total Options Volume\n",
    "Total_Volume = df1 [\"EST. VOL\"].sum()\n",
    "Total_Prior = df1 [\"PRIOR VOL\"].sum()\n",
    "Total_OI = df1 [\"PRIOR INT\"].sum()\n",
    "print (\"Yesterday's total options volume was\", Total_Volume,\".\"\" Prior volume was\", Total_Prior, \"while open interest stands at\", Total_OI,\".\")"
   ]
  },
  {
   "cell_type": "code",
   "execution_count": 10,
   "metadata": {},
   "outputs": [],
   "source": [
    "# Total Call Volume"
   ]
  },
  {
   "cell_type": "code",
   "execution_count": null,
   "metadata": {},
   "outputs": [],
   "source": []
  }
 ],
 "metadata": {
  "kernelspec": {
   "display_name": "Python 3",
   "language": "python",
   "name": "python3"
  },
  "language_info": {
   "codemirror_mode": {
    "name": "ipython",
    "version": 3
   },
   "file_extension": ".py",
   "mimetype": "text/x-python",
   "name": "python",
   "nbconvert_exporter": "python",
   "pygments_lexer": "ipython3",
   "version": "3.8.3-final"
  }
 },
 "nbformat": 4,
 "nbformat_minor": 4
}