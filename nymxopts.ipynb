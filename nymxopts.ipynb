{
 "cells": [
  {
   "cell_type": "code",
   "execution_count": 1,
   "metadata": {},
   "outputs": [],
   "source": [
    "import pandas as pd\n",
    "import numpy as np\n",
    "import matplotlib.pyplot as plt\n",
    "from sqlalchemy import create_engine\n",
    "import sqlalchemy.dialects\n",
    "from sqlalchemy.dialects import registry\n",
    "from sqlalchemy.orm import sessionmaker\n",
    "import seaborn as sns"
   ]
  },
  {
   "cell_type": "code",
   "execution_count": 2,
   "metadata": {},
   "outputs": [],
   "source": [
    "# Define and import from CME ftp\n",
    "file_name = \"ftp://ftp.cmegroup.com/pub/settle/nymex_option.csv\""
   ]
  },
  {
   "cell_type": "code",
   "execution_count": 3,
   "metadata": {
    "tags": []
   },
   "outputs": [
    {
     "output_type": "execute_result",
     "data": {
      "text/plain": [
       "      PRODUCT SYMBOL  CONTRACT MONTH  CONTRACT YEAR PUT/CALL  STRIKE  SETTLE  \\\n",
       "21753             LN               4           2021        C    4.00  0.0347   \n",
       "20601             LN              12           2020        P    2.70  0.0393   \n",
       "20406             LN              12           2020        C    2.80  0.0088   \n",
       "20403             LN              12           2020        C    2.75  0.0205   \n",
       "20751             LN               1           2021        C    4.00  0.0310   \n",
       "\n",
       "       PT CHG  EST. VOL  PRIOR SETTLE  PRIOR VOL  PRIOR INT   TRADEDATE  \n",
       "21753  0.0030      9200        0.0317        959      23472  11/23/2020  \n",
       "20601 -0.0575      4708        0.0968       2029       7097  11/23/2020  \n",
       "20406 -0.0072      4479        0.0160       5633       7217  11/23/2020  \n",
       "20403 -0.0060      4146        0.0265       2211       9887  11/23/2020  \n",
       "20751 -0.0032      3278        0.0342       3176      13240  11/23/2020  "
      ],
      "text/html": "<div>\n<style scoped>\n    .dataframe tbody tr th:only-of-type {\n        vertical-align: middle;\n    }\n\n    .dataframe tbody tr th {\n        vertical-align: top;\n    }\n\n    .dataframe thead th {\n        text-align: right;\n    }\n</style>\n<table border=\"1\" class=\"dataframe\">\n  <thead>\n    <tr style=\"text-align: right;\">\n      <th></th>\n      <th>PRODUCT SYMBOL</th>\n      <th>CONTRACT MONTH</th>\n      <th>CONTRACT YEAR</th>\n      <th>PUT/CALL</th>\n      <th>STRIKE</th>\n      <th>SETTLE</th>\n      <th>PT CHG</th>\n      <th>EST. VOL</th>\n      <th>PRIOR SETTLE</th>\n      <th>PRIOR VOL</th>\n      <th>PRIOR INT</th>\n      <th>TRADEDATE</th>\n    </tr>\n  </thead>\n  <tbody>\n    <tr>\n      <th>21753</th>\n      <td>LN</td>\n      <td>4</td>\n      <td>2021</td>\n      <td>C</td>\n      <td>4.00</td>\n      <td>0.0347</td>\n      <td>0.0030</td>\n      <td>9200</td>\n      <td>0.0317</td>\n      <td>959</td>\n      <td>23472</td>\n      <td>11/23/2020</td>\n    </tr>\n    <tr>\n      <th>20601</th>\n      <td>LN</td>\n      <td>12</td>\n      <td>2020</td>\n      <td>P</td>\n      <td>2.70</td>\n      <td>0.0393</td>\n      <td>-0.0575</td>\n      <td>4708</td>\n      <td>0.0968</td>\n      <td>2029</td>\n      <td>7097</td>\n      <td>11/23/2020</td>\n    </tr>\n    <tr>\n      <th>20406</th>\n      <td>LN</td>\n      <td>12</td>\n      <td>2020</td>\n      <td>C</td>\n      <td>2.80</td>\n      <td>0.0088</td>\n      <td>-0.0072</td>\n      <td>4479</td>\n      <td>0.0160</td>\n      <td>5633</td>\n      <td>7217</td>\n      <td>11/23/2020</td>\n    </tr>\n    <tr>\n      <th>20403</th>\n      <td>LN</td>\n      <td>12</td>\n      <td>2020</td>\n      <td>C</td>\n      <td>2.75</td>\n      <td>0.0205</td>\n      <td>-0.0060</td>\n      <td>4146</td>\n      <td>0.0265</td>\n      <td>2211</td>\n      <td>9887</td>\n      <td>11/23/2020</td>\n    </tr>\n    <tr>\n      <th>20751</th>\n      <td>LN</td>\n      <td>1</td>\n      <td>2021</td>\n      <td>C</td>\n      <td>4.00</td>\n      <td>0.0310</td>\n      <td>-0.0032</td>\n      <td>3278</td>\n      <td>0.0342</td>\n      <td>3176</td>\n      <td>13240</td>\n      <td>11/23/2020</td>\n    </tr>\n  </tbody>\n</table>\n</div>"
     },
     "metadata": {},
     "execution_count": 3
    }
   ],
   "source": [
    "# Create Dataframe\n",
    "df = pd.read_csv(file_name, index_col=False)\n",
    "\n",
    "# Select Columns\n",
    "df.drop ([\"CONTRACT DAY\", \"CONTRACT\", \"OPEN\", \"HIGH\", \"PRODUCT DESCRIPTION\", \"HIGH AB INDICATOR\", \n",
    "            \"LOW\", \"LOW AB INDICATOR\", \"LAST\", \"LAST AB INDICATOR\"\n",
    "            ], axis = 1, inplace = True)\n",
    "\n",
    "df_opts = pd.DataFrame (df,columns = [\"PRODUCT SYMBOL\", \"CONTRACT MONTH\", \"CONTRACT YEAR\", \"PUT/CALL\", \"STRIKE\", \"SETTLE\", \"PT CHG\", \"EST. VOL\", \"PRIOR SETTLE\", \"PRIOR VOL\", \"PRIOR INT\", \"TRADEDATE\"])\n",
    "\n",
    "# Remove display delimiters\n",
    "pd.set_option(\"display.max_rows\", None)\n",
    "pd.set_option(\"display.max_columns\", None)\n",
    "pd.set_option(\"display.width\", None)\n",
    "pd.set_option(\"display.max_colwidth\", None)\n",
    "\n",
    "# Convert NaNs to numeric format\n",
    "df_opts[\"EST. VOL\"] = pd.to_numeric(df_opts[\"EST. VOL\"], errors=\"coerce\")\n",
    "df_opts[\"PT CHG\"] = pd.to_numeric(df_opts[\"PT CHG\"], errors=\"coerce\")\n",
    "df_opts[\"PRIOR VOL\"] = pd.to_numeric(df_opts[\"PRIOR VOL\"], errors=\"coerce\")\n",
    "df_opts[\"PRIOR INT\"] = pd.to_numeric(df_opts[\"PRIOR INT\"], errors=\"coerce\")\n",
    "\n",
    "# Drop Null numerics\n",
    "df_opts = df_opts.dropna(subset=[\"EST. VOL\"])\n",
    "df_opts = df_opts.dropna(subset=[\"PRIOR VOL\"])\n",
    "df_opts = df_opts.dropna(subset=[\"PRIOR INT\"])\n",
    "\n",
    "# Convert float to int\n",
    "df_opts[\"EST. VOL\"] = df_opts[\"EST. VOL\"].astype(int)\n",
    "df_opts[\"PRIOR VOL\"] = df_opts[\"PRIOR VOL\"].astype(int)\n",
    "df_opts[\"PRIOR INT\"] = df_opts[\"PRIOR INT\"].astype(int)\n",
    "\n",
    "# Parse product symbol to LN (European Gas Options)\n",
    "df1 = df_opts[df_opts[\"PRODUCT SYMBOL\"].str.contains(\"LN\")]\n",
    "\n",
    "# Remove empty estimated volume rows\n",
    "df1.loc[df1[\"EST. VOL\"] > 0]\n",
    "\n",
    "# Return estimated volume in descending max to min order\n",
    "df1.sort_values (by = [\"EST. VOL\"], inplace = True, ascending = False)\n",
    "df1.head()"
   ]
  },
  {
   "cell_type": "code",
   "execution_count": 14,
   "metadata": {},
   "outputs": [
    {
     "output_type": "stream",
     "name": "stdout",
     "text": [
      "Yesterday's total options volume was 73623 . Prior volume was 108473 while open interest stands at 1159955 .\n"
     ]
    }
   ],
   "source": [
    "#Total Options Volume\n",
    "Total_Volume = df1 [\"EST. VOL\"].sum()\n",
    "Total_Prior = df1 [\"PRIOR VOL\"].sum()\n",
    "Total_OI = df1 [\"PRIOR INT\"].sum()\n",
    "print (\"Yesterday's total options volume was\", Total_Volume,\".\"\" Prior volume was\", Total_Prior, \"while open interest stands at\", Total_OI,\".\")"
   ]
  },
  {
   "cell_type": "code",
   "execution_count": 5,
   "metadata": {},
   "outputs": [],
   "source": [
    "# Total Call Volume"
   ]
  },
  {
   "cell_type": "code",
   "execution_count": null,
   "metadata": {},
   "outputs": [],
   "source": []
  }
 ],
 "metadata": {
  "kernelspec": {
   "display_name": "Python 3",
   "language": "python",
   "name": "python3"
  },
  "language_info": {
   "codemirror_mode": {
    "name": "ipython",
    "version": 3
   },
   "file_extension": ".py",
   "mimetype": "text/x-python",
   "name": "python",
   "nbconvert_exporter": "python",
   "pygments_lexer": "ipython3",
   "version": "3.8.3-final"
  }
 },
 "nbformat": 4,
 "nbformat_minor": 4
}